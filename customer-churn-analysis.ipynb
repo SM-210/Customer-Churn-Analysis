{
 "cells": [
  {
   "cell_type": "markdown",
   "id": "77e19a24",
   "metadata": {
    "papermill": {
     "duration": 0.002977,
     "end_time": "2025-06-13T00:32:32.603544",
     "exception": false,
     "start_time": "2025-06-13T00:32:32.600567",
     "status": "completed"
    },
    "tags": []
   },
   "source": [
    "# 📦 Customer Churn Analysis (Telco Dataset)\n",
    "\n",
    "This project analyzes customer churn patterns using data from a fictional telecom company. It aims to identify which customer segments are most at risk of churning and recommend strategies to improve retention.\n",
    "\n",
    "🔍 **Objective:**\n",
    "- Identify churn trends by contract, tenure, internet service\n",
    "- Build data storytelling and business insight skills\n"
   ]
  },
  {
   "cell_type": "code",
   "execution_count": 1,
   "id": "f5fb684f",
   "metadata": {
    "_execution_state": "idle",
    "_uuid": "051d70d956493feee0c6d64651c6a088724dca2a",
    "execution": {
     "iopub.execute_input": "2025-06-13T00:32:32.612408Z",
     "iopub.status.busy": "2025-06-13T00:32:32.610265Z",
     "iopub.status.idle": "2025-06-13T00:32:34.414770Z",
     "shell.execute_reply": "2025-06-13T00:32:34.412611Z"
    },
    "papermill": {
     "duration": 1.811435,
     "end_time": "2025-06-13T00:32:34.417368",
     "exception": false,
     "start_time": "2025-06-13T00:32:32.605933",
     "status": "completed"
    },
    "tags": []
   },
   "outputs": [
    {
     "name": "stderr",
     "output_type": "stream",
     "text": [
      "── \u001b[1mAttaching core tidyverse packages\u001b[22m ──────────────────────── tidyverse 2.0.0 ──\n",
      "\u001b[32m✔\u001b[39m \u001b[34mdplyr    \u001b[39m 1.1.4     \u001b[32m✔\u001b[39m \u001b[34mreadr    \u001b[39m 2.1.5\n",
      "\u001b[32m✔\u001b[39m \u001b[34mforcats  \u001b[39m 1.0.0     \u001b[32m✔\u001b[39m \u001b[34mstringr  \u001b[39m 1.5.1\n",
      "\u001b[32m✔\u001b[39m \u001b[34mggplot2  \u001b[39m 3.5.1     \u001b[32m✔\u001b[39m \u001b[34mtibble   \u001b[39m 3.2.1\n",
      "\u001b[32m✔\u001b[39m \u001b[34mlubridate\u001b[39m 1.9.3     \u001b[32m✔\u001b[39m \u001b[34mtidyr    \u001b[39m 1.3.1\n",
      "\u001b[32m✔\u001b[39m \u001b[34mpurrr    \u001b[39m 1.0.2     \n"
     ]
    },
    {
     "name": "stderr",
     "output_type": "stream",
     "text": [
      "── \u001b[1mConflicts\u001b[22m ────────────────────────────────────────── tidyverse_conflicts() ──\n",
      "\u001b[31m✖\u001b[39m \u001b[34mdplyr\u001b[39m::\u001b[32mfilter()\u001b[39m masks \u001b[34mstats\u001b[39m::filter()\n",
      "\u001b[31m✖\u001b[39m \u001b[34mdplyr\u001b[39m::\u001b[32mlag()\u001b[39m    masks \u001b[34mstats\u001b[39m::lag()\n",
      "\u001b[36mℹ\u001b[39m Use the conflicted package (\u001b[3m\u001b[34m<http://conflicted.r-lib.org/>\u001b[39m\u001b[23m) to force all conflicts to become errors\n"
     ]
    },
    {
     "name": "stderr",
     "output_type": "stream",
     "text": [
      "\n",
      "Attaching package: ‘janitor’\n",
      "\n",
      "\n"
     ]
    },
    {
     "name": "stderr",
     "output_type": "stream",
     "text": [
      "The following objects are masked from ‘package:stats’:\n",
      "\n",
      "    chisq.test, fisher.test\n",
      "\n",
      "\n"
     ]
    },
    {
     "name": "stderr",
     "output_type": "stream",
     "text": [
      "\u001b[1mRows: \u001b[22m\u001b[34m7043\u001b[39m \u001b[1mColumns: \u001b[22m\u001b[34m21\u001b[39m\n"
     ]
    },
    {
     "name": "stderr",
     "output_type": "stream",
     "text": [
      "\u001b[36m──\u001b[39m \u001b[1mColumn specification\u001b[22m \u001b[36m────────────────────────────────────────────────────────\u001b[39m\n",
      "\u001b[1mDelimiter:\u001b[22m \",\"\n",
      "\u001b[31mchr\u001b[39m (17): customerID, gender, Partner, Dependents, PhoneService, MultipleLin...\n",
      "\u001b[32mdbl\u001b[39m  (4): SeniorCitizen, tenure, MonthlyCharges, TotalCharges\n"
     ]
    },
    {
     "name": "stderr",
     "output_type": "stream",
     "text": [
      "\n",
      "\u001b[36mℹ\u001b[39m Use `spec()` to retrieve the full column specification for this data.\n",
      "\u001b[36mℹ\u001b[39m Specify the column types or set `show_col_types = FALSE` to quiet this message.\n"
     ]
    },
    {
     "name": "stdout",
     "output_type": "stream",
     "text": [
      "Rows: 7,043\n",
      "Columns: 21\n",
      "$ customer_id       \u001b[3m\u001b[90m<chr>\u001b[39m\u001b[23m \"7590-VHVEG\", \"5575-GNVDE\", \"3668-QPYBK\", \"7795-CFOC…\n",
      "$ gender            \u001b[3m\u001b[90m<chr>\u001b[39m\u001b[23m \"Female\", \"Male\", \"Male\", \"Male\", \"Female\", \"Female\"…\n",
      "$ senior_citizen    \u001b[3m\u001b[90m<dbl>\u001b[39m\u001b[23m 0, 0, 0, 0, 0, 0, 0, 0, 0, 0, 0, 0, 0, 0, 0, 0, 0, 0…\n",
      "$ partner           \u001b[3m\u001b[90m<chr>\u001b[39m\u001b[23m \"Yes\", \"No\", \"No\", \"No\", \"No\", \"No\", \"No\", \"No\", \"Ye…\n",
      "$ dependents        \u001b[3m\u001b[90m<chr>\u001b[39m\u001b[23m \"No\", \"No\", \"No\", \"No\", \"No\", \"No\", \"Yes\", \"No\", \"No…\n",
      "$ tenure            \u001b[3m\u001b[90m<dbl>\u001b[39m\u001b[23m 1, 34, 2, 45, 2, 8, 22, 10, 28, 62, 13, 16, 58, 49, …\n",
      "$ phone_service     \u001b[3m\u001b[90m<chr>\u001b[39m\u001b[23m \"No\", \"Yes\", \"Yes\", \"No\", \"Yes\", \"Yes\", \"Yes\", \"No\",…\n",
      "$ multiple_lines    \u001b[3m\u001b[90m<chr>\u001b[39m\u001b[23m \"No phone service\", \"No\", \"No\", \"No phone service\", …\n",
      "$ internet_service  \u001b[3m\u001b[90m<chr>\u001b[39m\u001b[23m \"DSL\", \"DSL\", \"DSL\", \"DSL\", \"Fiber optic\", \"Fiber op…\n",
      "$ online_security   \u001b[3m\u001b[90m<chr>\u001b[39m\u001b[23m \"No\", \"Yes\", \"Yes\", \"Yes\", \"No\", \"No\", \"No\", \"Yes\", …\n",
      "$ online_backup     \u001b[3m\u001b[90m<chr>\u001b[39m\u001b[23m \"Yes\", \"No\", \"Yes\", \"No\", \"No\", \"No\", \"Yes\", \"No\", \"…\n",
      "$ device_protection \u001b[3m\u001b[90m<chr>\u001b[39m\u001b[23m \"No\", \"Yes\", \"No\", \"Yes\", \"No\", \"Yes\", \"No\", \"No\", \"…\n",
      "$ tech_support      \u001b[3m\u001b[90m<chr>\u001b[39m\u001b[23m \"No\", \"No\", \"No\", \"Yes\", \"No\", \"No\", \"No\", \"No\", \"Ye…\n",
      "$ streaming_tv      \u001b[3m\u001b[90m<chr>\u001b[39m\u001b[23m \"No\", \"No\", \"No\", \"No\", \"No\", \"Yes\", \"Yes\", \"No\", \"Y…\n",
      "$ streaming_movies  \u001b[3m\u001b[90m<chr>\u001b[39m\u001b[23m \"No\", \"No\", \"No\", \"No\", \"No\", \"Yes\", \"No\", \"No\", \"Ye…\n",
      "$ contract          \u001b[3m\u001b[90m<chr>\u001b[39m\u001b[23m \"Month-to-month\", \"One year\", \"Month-to-month\", \"One…\n",
      "$ paperless_billing \u001b[3m\u001b[90m<chr>\u001b[39m\u001b[23m \"Yes\", \"No\", \"Yes\", \"No\", \"Yes\", \"Yes\", \"Yes\", \"No\",…\n",
      "$ payment_method    \u001b[3m\u001b[90m<chr>\u001b[39m\u001b[23m \"Electronic check\", \"Mailed check\", \"Mailed check\", …\n",
      "$ monthly_charges   \u001b[3m\u001b[90m<dbl>\u001b[39m\u001b[23m 29.85, 56.95, 53.85, 42.30, 70.70, 99.65, 89.10, 29.…\n",
      "$ total_charges     \u001b[3m\u001b[90m<dbl>\u001b[39m\u001b[23m 29.85, 1889.50, 108.15, 1840.75, 151.65, 820.50, 194…\n",
      "$ churn             \u001b[3m\u001b[90m<chr>\u001b[39m\u001b[23m \"No\", \"No\", \"Yes\", \"No\", \"Yes\", \"Yes\", \"No\", \"No\", \"…\n"
     ]
    }
   ],
   "source": [
    "library(tidyverse)\n",
    "library(janitor)\n",
    "\n",
    "# Load the data\n",
    "churn_data <- read_csv(\"/kaggle/input/customer-churn-analysis-in-r/WA_Fn-UseC_-Telco-Customer-Churn.csv\") %>%\n",
    "  clean_names()\n",
    "\n",
    "# Preview\n",
    "glimpse(churn_data)\n",
    "\n"
   ]
  },
  {
   "cell_type": "code",
   "execution_count": 2,
   "id": "35bf4b9b",
   "metadata": {
    "execution": {
     "iopub.execute_input": "2025-06-13T00:32:34.457220Z",
     "iopub.status.busy": "2025-06-13T00:32:34.425950Z",
     "iopub.status.idle": "2025-06-13T00:32:34.505866Z",
     "shell.execute_reply": "2025-06-13T00:32:34.503997Z"
    },
    "papermill": {
     "duration": 0.087652,
     "end_time": "2025-06-13T00:32:34.508382",
     "exception": false,
     "start_time": "2025-06-13T00:32:34.420730",
     "status": "completed"
    },
    "tags": []
   },
   "outputs": [
    {
     "data": {
      "text/html": [
       "<style>\n",
       ".dl-inline {width: auto; margin:0; padding: 0}\n",
       ".dl-inline>dt, .dl-inline>dd {float: none; width: auto; display: inline-block}\n",
       ".dl-inline>dt::after {content: \":\\0020\"; padding-right: .5ex}\n",
       ".dl-inline>dt:not(:first-of-type) {padding-left: .5ex}\n",
       "</style><dl class=dl-inline><dt>customer_id</dt><dd>0</dd><dt>gender</dt><dd>0</dd><dt>senior_citizen</dt><dd>0</dd><dt>partner</dt><dd>0</dd><dt>dependents</dt><dd>0</dd><dt>tenure</dt><dd>0</dd><dt>phone_service</dt><dd>0</dd><dt>multiple_lines</dt><dd>0</dd><dt>internet_service</dt><dd>0</dd><dt>online_security</dt><dd>0</dd><dt>online_backup</dt><dd>0</dd><dt>device_protection</dt><dd>0</dd><dt>tech_support</dt><dd>0</dd><dt>streaming_tv</dt><dd>0</dd><dt>streaming_movies</dt><dd>0</dd><dt>contract</dt><dd>0</dd><dt>paperless_billing</dt><dd>0</dd><dt>payment_method</dt><dd>0</dd><dt>monthly_charges</dt><dd>0</dd><dt>total_charges</dt><dd>11</dd><dt>churn</dt><dd>0</dd></dl>\n"
      ],
      "text/latex": [
       "\\begin{description*}\n",
       "\\item[customer\\textbackslash{}\\_id] 0\n",
       "\\item[gender] 0\n",
       "\\item[senior\\textbackslash{}\\_citizen] 0\n",
       "\\item[partner] 0\n",
       "\\item[dependents] 0\n",
       "\\item[tenure] 0\n",
       "\\item[phone\\textbackslash{}\\_service] 0\n",
       "\\item[multiple\\textbackslash{}\\_lines] 0\n",
       "\\item[internet\\textbackslash{}\\_service] 0\n",
       "\\item[online\\textbackslash{}\\_security] 0\n",
       "\\item[online\\textbackslash{}\\_backup] 0\n",
       "\\item[device\\textbackslash{}\\_protection] 0\n",
       "\\item[tech\\textbackslash{}\\_support] 0\n",
       "\\item[streaming\\textbackslash{}\\_tv] 0\n",
       "\\item[streaming\\textbackslash{}\\_movies] 0\n",
       "\\item[contract] 0\n",
       "\\item[paperless\\textbackslash{}\\_billing] 0\n",
       "\\item[payment\\textbackslash{}\\_method] 0\n",
       "\\item[monthly\\textbackslash{}\\_charges] 0\n",
       "\\item[total\\textbackslash{}\\_charges] 11\n",
       "\\item[churn] 0\n",
       "\\end{description*}\n"
      ],
      "text/markdown": [
       "customer_id\n",
       ":   0gender\n",
       ":   0senior_citizen\n",
       ":   0partner\n",
       ":   0dependents\n",
       ":   0tenure\n",
       ":   0phone_service\n",
       ":   0multiple_lines\n",
       ":   0internet_service\n",
       ":   0online_security\n",
       ":   0online_backup\n",
       ":   0device_protection\n",
       ":   0tech_support\n",
       ":   0streaming_tv\n",
       ":   0streaming_movies\n",
       ":   0contract\n",
       ":   0paperless_billing\n",
       ":   0payment_method\n",
       ":   0monthly_charges\n",
       ":   0total_charges\n",
       ":   11churn\n",
       ":   0\n",
       "\n"
      ],
      "text/plain": [
       "      customer_id            gender    senior_citizen           partner \n",
       "                0                 0                 0                 0 \n",
       "       dependents            tenure     phone_service    multiple_lines \n",
       "                0                 0                 0                 0 \n",
       " internet_service   online_security     online_backup device_protection \n",
       "                0                 0                 0                 0 \n",
       "     tech_support      streaming_tv  streaming_movies          contract \n",
       "                0                 0                 0                 0 \n",
       "paperless_billing    payment_method   monthly_charges     total_charges \n",
       "                0                 0                 0                11 \n",
       "            churn \n",
       "                0 "
      ]
     },
     "metadata": {},
     "output_type": "display_data"
    }
   ],
   "source": [
    "# Check for NA values\n",
    "colSums(is.na(churn_data))\n",
    "\n",
    "# Some 'total_charges' values are blank — fix and convert it to numeric\n",
    "churn_data <- churn_data %>%\n",
    "  filter(total_charges != \" \") %>%\n",
    "  mutate(\n",
    "    total_charges = as.numeric(total_charges),\n",
    "    churn = as.factor(churn)\n",
    "  )\n"
   ]
  },
  {
   "cell_type": "code",
   "execution_count": 3,
   "id": "36902f0a",
   "metadata": {
    "execution": {
     "iopub.execute_input": "2025-06-13T00:32:34.518528Z",
     "iopub.status.busy": "2025-06-13T00:32:34.516897Z",
     "iopub.status.idle": "2025-06-13T00:32:34.551898Z",
     "shell.execute_reply": "2025-06-13T00:32:34.550061Z"
    },
    "papermill": {
     "duration": 0.042576,
     "end_time": "2025-06-13T00:32:34.554317",
     "exception": false,
     "start_time": "2025-06-13T00:32:34.511741",
     "status": "completed"
    },
    "tags": []
   },
   "outputs": [
    {
     "name": "stdout",
     "output_type": "stream",
     "text": [
      "Rows: 7,032\n",
      "Columns: 21\n",
      "$ customer_id       \u001b[3m\u001b[90m<chr>\u001b[39m\u001b[23m \"7590-VHVEG\", \"5575-GNVDE\", \"3668-QPYBK\", \"7795-CFOC…\n",
      "$ gender            \u001b[3m\u001b[90m<chr>\u001b[39m\u001b[23m \"Female\", \"Male\", \"Male\", \"Male\", \"Female\", \"Female\"…\n",
      "$ senior_citizen    \u001b[3m\u001b[90m<dbl>\u001b[39m\u001b[23m 0, 0, 0, 0, 0, 0, 0, 0, 0, 0, 0, 0, 0, 0, 0, 0, 0, 0…\n",
      "$ partner           \u001b[3m\u001b[90m<chr>\u001b[39m\u001b[23m \"Yes\", \"No\", \"No\", \"No\", \"No\", \"No\", \"No\", \"No\", \"Ye…\n",
      "$ dependents        \u001b[3m\u001b[90m<chr>\u001b[39m\u001b[23m \"No\", \"No\", \"No\", \"No\", \"No\", \"No\", \"Yes\", \"No\", \"No…\n",
      "$ tenure            \u001b[3m\u001b[90m<dbl>\u001b[39m\u001b[23m 1, 34, 2, 45, 2, 8, 22, 10, 28, 62, 13, 16, 58, 49, …\n",
      "$ phone_service     \u001b[3m\u001b[90m<chr>\u001b[39m\u001b[23m \"No\", \"Yes\", \"Yes\", \"No\", \"Yes\", \"Yes\", \"Yes\", \"No\",…\n",
      "$ multiple_lines    \u001b[3m\u001b[90m<chr>\u001b[39m\u001b[23m \"No phone service\", \"No\", \"No\", \"No phone service\", …\n",
      "$ internet_service  \u001b[3m\u001b[90m<chr>\u001b[39m\u001b[23m \"DSL\", \"DSL\", \"DSL\", \"DSL\", \"Fiber optic\", \"Fiber op…\n",
      "$ online_security   \u001b[3m\u001b[90m<chr>\u001b[39m\u001b[23m \"No\", \"Yes\", \"Yes\", \"Yes\", \"No\", \"No\", \"No\", \"Yes\", …\n",
      "$ online_backup     \u001b[3m\u001b[90m<chr>\u001b[39m\u001b[23m \"Yes\", \"No\", \"Yes\", \"No\", \"No\", \"No\", \"Yes\", \"No\", \"…\n",
      "$ device_protection \u001b[3m\u001b[90m<chr>\u001b[39m\u001b[23m \"No\", \"Yes\", \"No\", \"Yes\", \"No\", \"Yes\", \"No\", \"No\", \"…\n",
      "$ tech_support      \u001b[3m\u001b[90m<chr>\u001b[39m\u001b[23m \"No\", \"No\", \"No\", \"Yes\", \"No\", \"No\", \"No\", \"No\", \"Ye…\n",
      "$ streaming_tv      \u001b[3m\u001b[90m<chr>\u001b[39m\u001b[23m \"No\", \"No\", \"No\", \"No\", \"No\", \"Yes\", \"Yes\", \"No\", \"Y…\n",
      "$ streaming_movies  \u001b[3m\u001b[90m<chr>\u001b[39m\u001b[23m \"No\", \"No\", \"No\", \"No\", \"No\", \"Yes\", \"No\", \"No\", \"Ye…\n",
      "$ contract          \u001b[3m\u001b[90m<chr>\u001b[39m\u001b[23m \"Month-to-month\", \"One year\", \"Month-to-month\", \"One…\n",
      "$ paperless_billing \u001b[3m\u001b[90m<chr>\u001b[39m\u001b[23m \"Yes\", \"No\", \"Yes\", \"No\", \"Yes\", \"Yes\", \"Yes\", \"No\",…\n",
      "$ payment_method    \u001b[3m\u001b[90m<chr>\u001b[39m\u001b[23m \"Electronic check\", \"Mailed check\", \"Mailed check\", …\n",
      "$ monthly_charges   \u001b[3m\u001b[90m<dbl>\u001b[39m\u001b[23m 29.85, 56.95, 53.85, 42.30, 70.70, 99.65, 89.10, 29.…\n",
      "$ total_charges     \u001b[3m\u001b[90m<dbl>\u001b[39m\u001b[23m 29.85, 1889.50, 108.15, 1840.75, 151.65, 820.50, 194…\n",
      "$ churn             \u001b[3m\u001b[90m<fct>\u001b[39m\u001b[23m No, No, Yes, No, Yes, Yes, No, No, Yes, No, No, No, …\n"
     ]
    },
    {
     "data": {
      "text/plain": [
       "   Min. 1st Qu.  Median    Mean 3rd Qu.    Max. \n",
       "   18.8   401.4  1397.5  2283.3  3794.7  8684.8 "
      ]
     },
     "metadata": {},
     "output_type": "display_data"
    }
   ],
   "source": [
    "glimpse(churn_data)\n",
    "summary(churn_data$total_charges)\n"
   ]
  },
  {
   "cell_type": "code",
   "execution_count": 4,
   "id": "1d5879af",
   "metadata": {
    "execution": {
     "iopub.execute_input": "2025-06-13T00:32:34.565345Z",
     "iopub.status.busy": "2025-06-13T00:32:34.563690Z",
     "iopub.status.idle": "2025-06-13T00:32:35.259770Z",
     "shell.execute_reply": "2025-06-13T00:32:35.257869Z"
    },
    "papermill": {
     "duration": 0.704085,
     "end_time": "2025-06-13T00:32:35.262077",
     "exception": false,
     "start_time": "2025-06-13T00:32:34.557992",
     "status": "completed"
    },
    "tags": []
   },
   "outputs": [
    {
     "name": "stderr",
     "output_type": "stream",
     "text": [
      "\u001b[1m\u001b[22m`summarise()` has grouped output by 'contract'. You can override using the\n",
      "`.groups` argument.\n"
     ]
    },
    {
     "data": {
      "image/png": "[encoded data removed]"
     },
     "metadata": {
      "image/png": {
       "height": 420,
       "width": 420
      }
     },
     "output_type": "display_data"
    }
   ],
   "source": [
    "churn_data %>%\n",
    "  group_by(contract, churn) %>%\n",
    "  summarise(customers = n()) %>%\n",
    "  ggplot(aes(x = contract, y = customers, fill = churn)) +\n",
    "  geom_col(position = \"dodge\") +\n",
    "  labs(title = \"Churn by Contract Type\", y = \"Customer Count\") +\n",
    "  theme_minimal()\n"
   ]
  },
  {
   "cell_type": "code",
   "execution_count": 5,
   "id": "a7e8b4a4",
   "metadata": {
    "execution": {
     "iopub.execute_input": "2025-06-13T00:32:35.274649Z",
     "iopub.status.busy": "2025-06-13T00:32:35.273039Z",
     "iopub.status.idle": "2025-06-13T00:32:35.771606Z",
     "shell.execute_reply": "2025-06-13T00:32:35.769466Z"
    },
    "papermill": {
     "duration": 0.50728,
     "end_time": "2025-06-13T00:32:35.773990",
     "exception": false,
     "start_time": "2025-06-13T00:32:35.266710",
     "status": "completed"
    },
    "tags": []
   },
   "outputs": [
    {
     "data": {
      "image/png": "[encoded data removed]"
     },
     "metadata": {
      "image/png": {
       "height": 420,
       "width": 420
      }
     },
     "output_type": "display_data"
    }
   ],
   "source": [
    "churn_data %>%\n",
    "  ggplot(aes(x = tenure, fill = churn)) +\n",
    "  geom_histogram(binwidth = 1, position = \"fill\") +\n",
    "  labs(title = \"Churn by Customer Tenure\", y = \"Proportion\") +\n",
    "  theme_minimal()\n"
   ]
  },
  {
   "cell_type": "code",
   "execution_count": 6,
   "id": "7d0cac7d",
   "metadata": {
    "execution": {
     "iopub.execute_input": "2025-06-13T00:32:35.787797Z",
     "iopub.status.busy": "2025-06-13T00:32:35.786147Z",
     "iopub.status.idle": "2025-06-13T00:32:36.081077Z",
     "shell.execute_reply": "2025-06-13T00:32:36.079239Z"
    },
    "papermill": {
     "duration": 0.304461,
     "end_time": "2025-06-13T00:32:36.083578",
     "exception": false,
     "start_time": "2025-06-13T00:32:35.779117",
     "status": "completed"
    },
    "tags": []
   },
   "outputs": [
    {
     "name": "stderr",
     "output_type": "stream",
     "text": [
      "\u001b[1m\u001b[22m`summarise()` has grouped output by 'internet_service'. You can override using\n",
      "the `.groups` argument.\n"
     ]
    },
    {
     "data": {
      "image/png": "[encoded data removed]"
     },
     "metadata": {
      "image/png": {
       "height": 420,
       "width": 420
      }
     },
     "output_type": "display_data"
    }
   ],
   "source": [
    "churn_data %>%\n",
    "  group_by(internet_service, churn) %>%\n",
    "  summarise(customers = n()) %>%\n",
    "  ggplot(aes(x = internet_service, y = customers, fill = churn)) +\n",
    "  geom_col(position = \"dodge\") +\n",
    "  labs(title = \"Churn by Internet Service Type\") +\n",
    "  theme_minimal()\n"
   ]
  },
  {
   "cell_type": "markdown",
   "id": "6a55263f",
   "metadata": {
    "papermill": {
     "duration": 0.005664,
     "end_time": "2025-06-13T00:32:36.095224",
     "exception": false,
     "start_time": "2025-06-13T00:32:36.089560",
     "status": "completed"
    },
    "tags": []
   },
   "source": [
    "# 📊 Key Insights from Customer Churn Analysis\n",
    "\n",
    "✅ **Contract Type:**\n",
    "- Month-to-month customers are much more likely to churn.\n",
    "- Long-term contracts (1- or 2-year) reduce churn risk.\n",
    "\n",
    "✅ **Customer Tenure:**\n",
    "- New customers (tenure < 6 months) are far more likely to churn.\n",
    "- Longer-tenure customers are more loyal.\n",
    "\n",
    "✅ **Internet Service:**\n",
    "- Customers with fiber optic internet show higher churn than those with DSL or no internet.\n",
    "\n",
    "🎯 **Recommendations:**\n",
    "- Introduce retention offers during the first 6 months of a customer’s lifecycle.\n",
    "- Encourage customers to switch from month-to-month to longer-term contracts with discounts.\n",
    "- Investigate fiber optic service complaints to reduce churn.\n",
    "\n"
   ]
  }
 ],
 "metadata": {
  "kaggle": {
   "accelerator": "none",
   "dataSources": [
    {
     "datasetId": 7651017,
     "sourceId": 12148019,
     "sourceType": "datasetVersion"
    }
   ],
   "dockerImageVersionId": 30749,
   "isGpuEnabled": false,
   "isInternetEnabled": true,
   "language": "r",
   "sourceType": "notebook"
  },
  "kernelspec": {
   "display_name": "R",
   "language": "R",
   "name": "ir"
  },
  "language_info": {
   "codemirror_mode": "r",
   "file_extension": ".r",
   "mimetype": "text/x-r-source",
   "name": "R",
   "pygments_lexer": "r",
   "version": "4.4.0"
  },
  "papermill": {
   "default_parameters": {},
   "duration": 6.922955,
   "end_time": "2025-06-13T00:32:36.222081",
   "environment_variables": {},
   "exception": null,
   "input_path": "__notebook__.ipynb",
   "output_path": "__notebook__.ipynb",
   "parameters": {},
   "start_time": "2025-06-13T00:32:29.299126",
   "version": "2.6.0"
  }
 },
 "nbformat": 4,
 "nbformat_minor": 5
}
